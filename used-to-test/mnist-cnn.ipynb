{
 "cells": [
  {
   "cell_type": "code",
   "execution_count": 1,
   "metadata": {},
   "outputs": [],
   "source": [
    "import torch, torchvision\n",
    "from torch import optim, nn\n",
    "import torch.nn.functional as F\n",
    "from torch.autograd import Variable\n",
    "import numpy as np\n",
    "import matplotlib.pyplot as plt"
   ]
  },
  {
   "cell_type": "code",
   "execution_count": 2,
   "metadata": {},
   "outputs": [],
   "source": [
    "T=torchvision.transforms.Compose([torchvision.transforms.ToTensor()])\n",
    "mnist_data=torchvision.datasets.MNIST('mnist_data',train=True,transform=T,download=True)  \n",
    "mnist_test=torchvision.datasets.MNIST('mnist_data',train=False,transform=T,download=True)  \n",
    "\n",
    "mnist_dataloader= torch.utils.data.DataLoader(mnist_data,batch_size=64)\n",
    "mnist_testloader= torch.utils.data.DataLoader(mnist_test,batch_size=64)"
   ]
  },
  {
   "cell_type": "code",
   "execution_count": 3,
   "metadata": {},
   "outputs": [],
   "source": [
    "class cnn_net(nn.Module):\n",
    "    def __init__(self,input_channel,hidden_channel,output_channel):\n",
    "        super(cnn_net,self).__init__()\n",
    "        self.conv1=nn.Conv2d(input_channel,hidden_channel,kernel_size=5)\n",
    "        self.conv2=nn.Conv2d(hidden_channel,output_channel,kernel_size=5)\n",
    "        self.mp=nn.MaxPool2d(2)\n",
    "        self.fc=nn.Linear(320,10)\n",
    "    def forward(self,x):\n",
    "        in_size=x.size(0)\n",
    "        x=F.relu(self.mp(self.conv1(x)))\n",
    "        x=F.relu(self.mp(self.conv2(x)))\n",
    "        x=x.view(in_size,-1)\n",
    "        x=self.fc(x)\n",
    "        x=F.softmax(x,1)\n",
    "        return x"
   ]
  },
  {
   "cell_type": "code",
   "execution_count": 4,
   "metadata": {},
   "outputs": [
    {
     "name": "stdout",
     "output_type": "stream",
     "text": [
      "cnn_net(\n",
      "  (conv1): Conv2d(1, 10, kernel_size=(5, 5), stride=(1, 1))\n",
      "  (conv2): Conv2d(10, 20, kernel_size=(5, 5), stride=(1, 1))\n",
      "  (mp): MaxPool2d(kernel_size=2, stride=2, padding=0, dilation=1, ceil_mode=False)\n",
      "  (fc): Linear(in_features=320, out_features=10, bias=True)\n",
      ")\n"
     ]
    }
   ],
   "source": [
    "model=cnn_net(input_channel=1,hidden_channel=10,output_channel=20)\n",
    "loss=nn.MSELoss()\n",
    "params=model.parameters()\n",
    "opt=optim.SGD(params=params, lr=0.01, momentum = 0.9)\n",
    "print(model)"
   ]
  },
  {
   "cell_type": "code",
   "execution_count": 5,
   "metadata": {},
   "outputs": [],
   "source": [
    "def change(labels):\n",
    "    size,length=labels.shape\n",
    "    x=torch.zeros(size,10)\n",
    "    for i in range (size):\n",
    "        k=labels[i].cpu().numpy()\n",
    "        x[i,k]=1\n",
    "    return x"
   ]
  },
  {
   "cell_type": "code",
   "execution_count": 6,
   "metadata": {},
   "outputs": [
    {
     "name": "stdout",
     "output_type": "stream",
     "text": [
      "epoch= 0 loss= 0.08075815439224243\n"
     ]
    }
   ],
   "source": [
    "n_epochs=1\n",
    "for e in range(n_epochs):\n",
    "    lo=np.zeros(n_epochs)\n",
    "    print('epoch=',e,end=' ')\n",
    "    for i,(images,labels) in enumerate(mnist_dataloader):\n",
    "        images=Variable(images)\n",
    "        labels=Variable(labels.view(labels.size(0),-1))\n",
    "        labels=change(labels)\n",
    "        output=model(images)\n",
    "        model.zero_grad()\n",
    "        l=loss(output,labels)\n",
    "        lo[e]=l\n",
    "        l.backward()\n",
    "        opt.step()\n",
    "        #print(i,end=\" \")\n",
    "    print('loss=',lo[e])\n"
   ]
  },
  {
   "cell_type": "code",
   "execution_count": 7,
   "metadata": {},
   "outputs": [
    {
     "data": {
      "text/plain": [
       "32"
      ]
     },
     "execution_count": 7,
     "metadata": {},
     "output_type": "execute_result"
    }
   ],
   "source": [
    "labels.shape[0]"
   ]
  },
  {
   "cell_type": "code",
   "execution_count": 16,
   "metadata": {},
   "outputs": [],
   "source": [
    "def show(x):\n",
    "    x=x.detach().numpy()\n",
    "    maximum=0\n",
    "    for i in range (10):\n",
    "        if(x[i]>maximum):\n",
    "            out=i\n",
    "            maximum=x[i]\n",
    "    return out, maximum*100 "
   ]
  },
  {
   "cell_type": "code",
   "execution_count": 17,
   "metadata": {},
   "outputs": [],
   "source": [
    "def plot(images,labels,output,i):\n",
    "    images=images.view(images.size(0),-1)\n",
    "    images=images.data.view(-1,28,28)\n",
    "    out, maximum=show(output[i])\n",
    "    print(labels[i],out,maximum)\n",
    "    img2=np.array(images.detach().numpy())[i]\n",
    "    plt.imshow(img2,cmap='gray')\n",
    "    plt.show()\n",
    "    plt.close()"
   ]
  },
  {
   "cell_type": "code",
   "execution_count": 18,
   "metadata": {},
   "outputs": [],
   "source": [
    "def accuracy(output,labels,images):\n",
    "    count=0\n",
    "    n=labels.shape[0]\n",
    "    for i in range (n):\n",
    "        out, maximum=show(output[i])\n",
    "        if(out==labels[i]):\n",
    "            count+=1\n",
    "        #else:\n",
    "            #plot(images,labels,output,i)\n",
    "    return count/n*100"
   ]
  },
  {
   "cell_type": "code",
   "execution_count": 19,
   "metadata": {},
   "outputs": [],
   "source": [
    "a=0\n",
    "x=0\n",
    "for i,(images,labels) in enumerate(mnist_dataloader):\n",
    "    output=model(images)\n",
    "    a=accuracy(output,labels,images)\n",
    "    x+=a\n",
    "    #print(a,' ',x/(i+1))"
   ]
  },
  {
   "cell_type": "code",
   "execution_count": 20,
   "metadata": {},
   "outputs": [
    {
     "data": {
      "text/plain": [
       "13.69833333333334"
      ]
     },
     "execution_count": 20,
     "metadata": {},
     "output_type": "execute_result"
    }
   ],
   "source": [
    "x/(i+1)"
   ]
  },
  {
   "cell_type": "code",
   "execution_count": null,
   "metadata": {},
   "outputs": [],
   "source": []
  }
 ],
 "metadata": {
  "kernelspec": {
   "display_name": "Python 3",
   "language": "python",
   "name": "python3"
  },
  "language_info": {
   "codemirror_mode": {
    "name": "ipython",
    "version": 3
   },
   "file_extension": ".py",
   "mimetype": "text/x-python",
   "name": "python",
   "nbconvert_exporter": "python",
   "pygments_lexer": "ipython3",
   "version": "3.5.2"
  }
 },
 "nbformat": 4,
 "nbformat_minor": 2
}
